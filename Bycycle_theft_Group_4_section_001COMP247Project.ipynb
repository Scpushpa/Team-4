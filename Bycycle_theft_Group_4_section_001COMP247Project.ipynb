{
 "cells": [
  {
   "cell_type": "code",
   "execution_count": 94,
   "id": "210c1fcd",
   "metadata": {},
   "outputs": [],
   "source": [
    "# COMP 247 - Project - Group 4\n",
    "import pandas as pd\n",
    "import numpy as np"
   ]
  },
  {
   "cell_type": "markdown",
   "id": "5e214d9d",
   "metadata": {},
   "source": [
    "Reading dataset"
   ]
  },
  {
   "cell_type": "code",
   "execution_count": 95,
   "id": "39e94992",
   "metadata": {},
   "outputs": [],
   "source": [
    "dataset = pd.read_csv(\"Bicycle_Thefts.csv\", header=0, low_memory=False)"
   ]
  },
  {
   "cell_type": "code",
   "execution_count": 96,
   "id": "bff1f44c",
   "metadata": {},
   "outputs": [
    {
     "data": {
      "text/html": [
       "<div>\n",
       "<style scoped>\n",
       "    .dataframe tbody tr th:only-of-type {\n",
       "        vertical-align: middle;\n",
       "    }\n",
       "\n",
       "    .dataframe tbody tr th {\n",
       "        vertical-align: top;\n",
       "    }\n",
       "\n",
       "    .dataframe thead th {\n",
       "        text-align: right;\n",
       "    }\n",
       "</style>\n",
       "<table border=\"1\" class=\"dataframe\">\n",
       "  <thead>\n",
       "    <tr style=\"text-align: right;\">\n",
       "      <th></th>\n",
       "      <th>X</th>\n",
       "      <th>Y</th>\n",
       "      <th>OBJECTID</th>\n",
       "      <th>event_unique_id</th>\n",
       "      <th>Primary_Offence</th>\n",
       "      <th>Occurrence_Date</th>\n",
       "      <th>Occurrence_Year</th>\n",
       "      <th>Occurrence_Month</th>\n",
       "      <th>Occurrence_DayOfWeek</th>\n",
       "      <th>Occurrence_DayOfMonth</th>\n",
       "      <th>...</th>\n",
       "      <th>Bike_Make</th>\n",
       "      <th>Bike_Model</th>\n",
       "      <th>Bike_Type</th>\n",
       "      <th>Bike_Speed</th>\n",
       "      <th>Bike_Colour</th>\n",
       "      <th>Cost_of_Bike</th>\n",
       "      <th>Status</th>\n",
       "      <th>Longitude</th>\n",
       "      <th>Latitude</th>\n",
       "      <th>ObjectId2</th>\n",
       "    </tr>\n",
       "  </thead>\n",
       "  <tbody>\n",
       "    <tr>\n",
       "      <th>0</th>\n",
       "      <td>-8.850630e+06</td>\n",
       "      <td>5.411196e+06</td>\n",
       "      <td>17744</td>\n",
       "      <td>GO-20179016397</td>\n",
       "      <td>THEFT UNDER</td>\n",
       "      <td>2017/10/03 04:00:00+00</td>\n",
       "      <td>2017</td>\n",
       "      <td>October</td>\n",
       "      <td>Tuesday</td>\n",
       "      <td>3</td>\n",
       "      <td>...</td>\n",
       "      <td>GI</td>\n",
       "      <td>ESCAPE 2</td>\n",
       "      <td>OT</td>\n",
       "      <td>7</td>\n",
       "      <td>BLK</td>\n",
       "      <td>700.0</td>\n",
       "      <td>STOLEN</td>\n",
       "      <td>-79.506560</td>\n",
       "      <td>43.648427</td>\n",
       "      <td>1</td>\n",
       "    </tr>\n",
       "    <tr>\n",
       "      <th>1</th>\n",
       "      <td>-8.850439e+06</td>\n",
       "      <td>5.412149e+06</td>\n",
       "      <td>17759</td>\n",
       "      <td>GO-20172033056</td>\n",
       "      <td>THEFT UNDER - BICYCLE</td>\n",
       "      <td>2017/11/08 05:00:00+00</td>\n",
       "      <td>2017</td>\n",
       "      <td>November</td>\n",
       "      <td>Wednesday</td>\n",
       "      <td>8</td>\n",
       "      <td>...</td>\n",
       "      <td>UNKNOWN MAKE</td>\n",
       "      <td>NaN</td>\n",
       "      <td>TO</td>\n",
       "      <td>1</td>\n",
       "      <td>BLK</td>\n",
       "      <td>1100.0</td>\n",
       "      <td>RECOVERED</td>\n",
       "      <td>-79.504849</td>\n",
       "      <td>43.654623</td>\n",
       "      <td>2</td>\n",
       "    </tr>\n",
       "    <tr>\n",
       "      <th>2</th>\n",
       "      <td>-8.851203e+06</td>\n",
       "      <td>5.411169e+06</td>\n",
       "      <td>17906</td>\n",
       "      <td>GO-20189030822</td>\n",
       "      <td>THEFT UNDER - BICYCLE</td>\n",
       "      <td>2018/09/14 04:00:00+00</td>\n",
       "      <td>2018</td>\n",
       "      <td>September</td>\n",
       "      <td>Friday</td>\n",
       "      <td>14</td>\n",
       "      <td>...</td>\n",
       "      <td>OT</td>\n",
       "      <td>CROSSTRAIL</td>\n",
       "      <td>MT</td>\n",
       "      <td>24</td>\n",
       "      <td>BLK</td>\n",
       "      <td>904.0</td>\n",
       "      <td>STOLEN</td>\n",
       "      <td>-79.511709</td>\n",
       "      <td>43.648253</td>\n",
       "      <td>3</td>\n",
       "    </tr>\n",
       "    <tr>\n",
       "      <th>3</th>\n",
       "      <td>-8.851203e+06</td>\n",
       "      <td>5.411169e+06</td>\n",
       "      <td>17962</td>\n",
       "      <td>GO-2015804467</td>\n",
       "      <td>THEFT UNDER</td>\n",
       "      <td>2015/05/07 04:00:00+00</td>\n",
       "      <td>2015</td>\n",
       "      <td>May</td>\n",
       "      <td>Thursday</td>\n",
       "      <td>7</td>\n",
       "      <td>...</td>\n",
       "      <td>GT</td>\n",
       "      <td>NaN</td>\n",
       "      <td>TO</td>\n",
       "      <td>10</td>\n",
       "      <td>BLKDGR</td>\n",
       "      <td>400.0</td>\n",
       "      <td>STOLEN</td>\n",
       "      <td>-79.511709</td>\n",
       "      <td>43.648253</td>\n",
       "      <td>4</td>\n",
       "    </tr>\n",
       "    <tr>\n",
       "      <th>4</th>\n",
       "      <td>-8.851160e+06</td>\n",
       "      <td>5.411032e+06</td>\n",
       "      <td>17963</td>\n",
       "      <td>GO-20159002781</td>\n",
       "      <td>THEFT UNDER</td>\n",
       "      <td>2015/05/16 04:00:00+00</td>\n",
       "      <td>2015</td>\n",
       "      <td>May</td>\n",
       "      <td>Saturday</td>\n",
       "      <td>16</td>\n",
       "      <td>...</td>\n",
       "      <td>GI</td>\n",
       "      <td>NaN</td>\n",
       "      <td>MT</td>\n",
       "      <td>6</td>\n",
       "      <td>RED</td>\n",
       "      <td>600.0</td>\n",
       "      <td>STOLEN</td>\n",
       "      <td>-79.511327</td>\n",
       "      <td>43.647364</td>\n",
       "      <td>5</td>\n",
       "    </tr>\n",
       "    <tr>\n",
       "      <th>...</th>\n",
       "      <td>...</td>\n",
       "      <td>...</td>\n",
       "      <td>...</td>\n",
       "      <td>...</td>\n",
       "      <td>...</td>\n",
       "      <td>...</td>\n",
       "      <td>...</td>\n",
       "      <td>...</td>\n",
       "      <td>...</td>\n",
       "      <td>...</td>\n",
       "      <td>...</td>\n",
       "      <td>...</td>\n",
       "      <td>...</td>\n",
       "      <td>...</td>\n",
       "      <td>...</td>\n",
       "      <td>...</td>\n",
       "      <td>...</td>\n",
       "      <td>...</td>\n",
       "      <td>...</td>\n",
       "      <td>...</td>\n",
       "      <td>...</td>\n",
       "    </tr>\n",
       "    <tr>\n",
       "      <th>25564</th>\n",
       "      <td>-8.818235e+06</td>\n",
       "      <td>5.435746e+06</td>\n",
       "      <td>9361</td>\n",
       "      <td>GO-2015543181</td>\n",
       "      <td>MISCHIEF UNDER</td>\n",
       "      <td>2015/04/01 04:00:00+00</td>\n",
       "      <td>2015</td>\n",
       "      <td>April</td>\n",
       "      <td>Wednesday</td>\n",
       "      <td>1</td>\n",
       "      <td>...</td>\n",
       "      <td>UNKNOWN MAKE</td>\n",
       "      <td>BMX WILD MAN</td>\n",
       "      <td>RG</td>\n",
       "      <td>0</td>\n",
       "      <td>SIL</td>\n",
       "      <td>600.0</td>\n",
       "      <td>STOLEN</td>\n",
       "      <td>-79.215553</td>\n",
       "      <td>43.807798</td>\n",
       "      <td>25565</td>\n",
       "    </tr>\n",
       "    <tr>\n",
       "      <th>25565</th>\n",
       "      <td>-8.818471e+06</td>\n",
       "      <td>5.436317e+06</td>\n",
       "      <td>11318</td>\n",
       "      <td>GO-20169004589</td>\n",
       "      <td>THEFT UNDER</td>\n",
       "      <td>2016/05/16 04:00:00+00</td>\n",
       "      <td>2016</td>\n",
       "      <td>May</td>\n",
       "      <td>Monday</td>\n",
       "      <td>16</td>\n",
       "      <td>...</td>\n",
       "      <td>SC</td>\n",
       "      <td>NaN</td>\n",
       "      <td>OT</td>\n",
       "      <td>14</td>\n",
       "      <td>NaN</td>\n",
       "      <td>900.0</td>\n",
       "      <td>STOLEN</td>\n",
       "      <td>-79.217670</td>\n",
       "      <td>43.811497</td>\n",
       "      <td>25566</td>\n",
       "    </tr>\n",
       "    <tr>\n",
       "      <th>25566</th>\n",
       "      <td>-8.820513e+06</td>\n",
       "      <td>5.433291e+06</td>\n",
       "      <td>11462</td>\n",
       "      <td>GO-20169005434</td>\n",
       "      <td>THEFT UNDER</td>\n",
       "      <td>2016/06/04 04:00:00+00</td>\n",
       "      <td>2016</td>\n",
       "      <td>June</td>\n",
       "      <td>Saturday</td>\n",
       "      <td>4</td>\n",
       "      <td>...</td>\n",
       "      <td>SC</td>\n",
       "      <td>ANTRIM</td>\n",
       "      <td>MT</td>\n",
       "      <td>24</td>\n",
       "      <td>WHI</td>\n",
       "      <td>700.0</td>\n",
       "      <td>STOLEN</td>\n",
       "      <td>-79.236018</td>\n",
       "      <td>43.791876</td>\n",
       "      <td>25567</td>\n",
       "    </tr>\n",
       "    <tr>\n",
       "      <th>25567</th>\n",
       "      <td>-8.816571e+06</td>\n",
       "      <td>5.433957e+06</td>\n",
       "      <td>11695</td>\n",
       "      <td>GO-20161170896</td>\n",
       "      <td>THEFT UNDER</td>\n",
       "      <td>2016/07/04 04:00:00+00</td>\n",
       "      <td>2016</td>\n",
       "      <td>July</td>\n",
       "      <td>Monday</td>\n",
       "      <td>4</td>\n",
       "      <td>...</td>\n",
       "      <td>UNKNOWN MAKE</td>\n",
       "      <td>NaN</td>\n",
       "      <td>SC</td>\n",
       "      <td>1</td>\n",
       "      <td>NaN</td>\n",
       "      <td>3000.0</td>\n",
       "      <td>STOLEN</td>\n",
       "      <td>-79.200607</td>\n",
       "      <td>43.796194</td>\n",
       "      <td>25568</td>\n",
       "    </tr>\n",
       "    <tr>\n",
       "      <th>25568</th>\n",
       "      <td>-8.820661e+06</td>\n",
       "      <td>5.433802e+06</td>\n",
       "      <td>11883</td>\n",
       "      <td>GO-20169007653</td>\n",
       "      <td>THEFT UNDER - BICYCLE</td>\n",
       "      <td>2016/07/22 04:00:00+00</td>\n",
       "      <td>2016</td>\n",
       "      <td>July</td>\n",
       "      <td>Friday</td>\n",
       "      <td>22</td>\n",
       "      <td>...</td>\n",
       "      <td>SU</td>\n",
       "      <td>ASCENT MOUNTAIN</td>\n",
       "      <td>MT</td>\n",
       "      <td>21</td>\n",
       "      <td>ONG</td>\n",
       "      <td>200.0</td>\n",
       "      <td>STOLEN</td>\n",
       "      <td>-79.237347</td>\n",
       "      <td>43.795193</td>\n",
       "      <td>25569</td>\n",
       "    </tr>\n",
       "  </tbody>\n",
       "</table>\n",
       "<p>25569 rows × 35 columns</p>\n",
       "</div>"
      ],
      "text/plain": [
       "                  X             Y  OBJECTID event_unique_id  \\\n",
       "0     -8.850630e+06  5.411196e+06     17744  GO-20179016397   \n",
       "1     -8.850439e+06  5.412149e+06     17759  GO-20172033056   \n",
       "2     -8.851203e+06  5.411169e+06     17906  GO-20189030822   \n",
       "3     -8.851203e+06  5.411169e+06     17962   GO-2015804467   \n",
       "4     -8.851160e+06  5.411032e+06     17963  GO-20159002781   \n",
       "...             ...           ...       ...             ...   \n",
       "25564 -8.818235e+06  5.435746e+06      9361   GO-2015543181   \n",
       "25565 -8.818471e+06  5.436317e+06     11318  GO-20169004589   \n",
       "25566 -8.820513e+06  5.433291e+06     11462  GO-20169005434   \n",
       "25567 -8.816571e+06  5.433957e+06     11695  GO-20161170896   \n",
       "25568 -8.820661e+06  5.433802e+06     11883  GO-20169007653   \n",
       "\n",
       "             Primary_Offence         Occurrence_Date  Occurrence_Year  \\\n",
       "0                THEFT UNDER  2017/10/03 04:00:00+00             2017   \n",
       "1      THEFT UNDER - BICYCLE  2017/11/08 05:00:00+00             2017   \n",
       "2      THEFT UNDER - BICYCLE  2018/09/14 04:00:00+00             2018   \n",
       "3                THEFT UNDER  2015/05/07 04:00:00+00             2015   \n",
       "4                THEFT UNDER  2015/05/16 04:00:00+00             2015   \n",
       "...                      ...                     ...              ...   \n",
       "25564         MISCHIEF UNDER  2015/04/01 04:00:00+00             2015   \n",
       "25565            THEFT UNDER  2016/05/16 04:00:00+00             2016   \n",
       "25566            THEFT UNDER  2016/06/04 04:00:00+00             2016   \n",
       "25567            THEFT UNDER  2016/07/04 04:00:00+00             2016   \n",
       "25568  THEFT UNDER - BICYCLE  2016/07/22 04:00:00+00             2016   \n",
       "\n",
       "      Occurrence_Month Occurrence_DayOfWeek  Occurrence_DayOfMonth  ...  \\\n",
       "0              October              Tuesday                      3  ...   \n",
       "1             November            Wednesday                      8  ...   \n",
       "2            September               Friday                     14  ...   \n",
       "3                  May             Thursday                      7  ...   \n",
       "4                  May             Saturday                     16  ...   \n",
       "...                ...                  ...                    ...  ...   \n",
       "25564            April            Wednesday                      1  ...   \n",
       "25565              May               Monday                     16  ...   \n",
       "25566             June             Saturday                      4  ...   \n",
       "25567             July               Monday                      4  ...   \n",
       "25568             July               Friday                     22  ...   \n",
       "\n",
       "          Bike_Make       Bike_Model Bike_Type  Bike_Speed Bike_Colour  \\\n",
       "0                GI         ESCAPE 2        OT           7         BLK   \n",
       "1      UNKNOWN MAKE              NaN        TO           1         BLK   \n",
       "2                OT       CROSSTRAIL        MT          24         BLK   \n",
       "3                GT              NaN        TO          10      BLKDGR   \n",
       "4                GI              NaN        MT           6         RED   \n",
       "...             ...              ...       ...         ...         ...   \n",
       "25564  UNKNOWN MAKE     BMX WILD MAN        RG           0         SIL   \n",
       "25565            SC              NaN        OT          14         NaN   \n",
       "25566            SC           ANTRIM        MT          24         WHI   \n",
       "25567  UNKNOWN MAKE              NaN        SC           1         NaN   \n",
       "25568            SU  ASCENT MOUNTAIN        MT          21         ONG   \n",
       "\n",
       "      Cost_of_Bike     Status  Longitude   Latitude ObjectId2  \n",
       "0            700.0     STOLEN -79.506560  43.648427         1  \n",
       "1           1100.0  RECOVERED -79.504849  43.654623         2  \n",
       "2            904.0     STOLEN -79.511709  43.648253         3  \n",
       "3            400.0     STOLEN -79.511709  43.648253         4  \n",
       "4            600.0     STOLEN -79.511327  43.647364         5  \n",
       "...            ...        ...        ...        ...       ...  \n",
       "25564        600.0     STOLEN -79.215553  43.807798     25565  \n",
       "25565        900.0     STOLEN -79.217670  43.811497     25566  \n",
       "25566        700.0     STOLEN -79.236018  43.791876     25567  \n",
       "25567       3000.0     STOLEN -79.200607  43.796194     25568  \n",
       "25568        200.0     STOLEN -79.237347  43.795193     25569  \n",
       "\n",
       "[25569 rows x 35 columns]"
      ]
     },
     "execution_count": 96,
     "metadata": {},
     "output_type": "execute_result"
    }
   ],
   "source": [
    "df = pd.DataFrame(dataset)\n",
    "df"
   ]
  },
  {
   "cell_type": "markdown",
   "id": "0ca1882d",
   "metadata": {},
   "source": [
    "Dataset features type"
   ]
  },
  {
   "cell_type": "code",
   "execution_count": 97,
   "id": "b7b74734",
   "metadata": {},
   "outputs": [
    {
     "data": {
      "text/plain": [
       "X                        float64\n",
       "Y                        float64\n",
       "OBJECTID                   int64\n",
       "event_unique_id           object\n",
       "Primary_Offence           object\n",
       "Occurrence_Date           object\n",
       "Occurrence_Year            int64\n",
       "Occurrence_Month          object\n",
       "Occurrence_DayOfWeek      object\n",
       "Occurrence_DayOfMonth      int64\n",
       "Occurrence_DayOfYear       int64\n",
       "Occurrence_Hour            int64\n",
       "Report_Date               object\n",
       "Report_Year                int64\n",
       "Report_Month              object\n",
       "Report_DayOfWeek          object\n",
       "Report_DayOfMonth          int64\n",
       "Report_DayOfYear           int64\n",
       "Report_Hour                int64\n",
       "Division                  object\n",
       "City                      object\n",
       "Hood_ID                   object\n",
       "NeighbourhoodName         object\n",
       "Location_Type             object\n",
       "Premises_Type             object\n",
       "Bike_Make                 object\n",
       "Bike_Model                object\n",
       "Bike_Type                 object\n",
       "Bike_Speed                 int64\n",
       "Bike_Colour               object\n",
       "Cost_of_Bike             float64\n",
       "Status                    object\n",
       "Longitude                float64\n",
       "Latitude                 float64\n",
       "ObjectId2                  int64\n",
       "dtype: object"
      ]
     },
     "execution_count": 97,
     "metadata": {},
     "output_type": "execute_result"
    }
   ],
   "source": [
    "df.dtypes"
   ]
  },
  {
   "cell_type": "code",
   "execution_count": 98,
   "id": "5c537f3f",
   "metadata": {},
   "outputs": [
    {
     "data": {
      "text/plain": [
       "Index(['X', 'Y', 'OBJECTID', 'event_unique_id', 'Primary_Offence',\n",
       "       'Occurrence_Date', 'Occurrence_Year', 'Occurrence_Month',\n",
       "       'Occurrence_DayOfWeek', 'Occurrence_DayOfMonth', 'Occurrence_DayOfYear',\n",
       "       'Occurrence_Hour', 'Report_Date', 'Report_Year', 'Report_Month',\n",
       "       'Report_DayOfWeek', 'Report_DayOfMonth', 'Report_DayOfYear',\n",
       "       'Report_Hour', 'Division', 'City', 'Hood_ID', 'NeighbourhoodName',\n",
       "       'Location_Type', 'Premises_Type', 'Bike_Make', 'Bike_Model',\n",
       "       'Bike_Type', 'Bike_Speed', 'Bike_Colour', 'Cost_of_Bike', 'Status',\n",
       "       'Longitude', 'Latitude', 'ObjectId2'],\n",
       "      dtype='object')"
      ]
     },
     "execution_count": 98,
     "metadata": {},
     "output_type": "execute_result"
    }
   ],
   "source": [
    "# Keys\n",
    "df.keys()"
   ]
  },
  {
   "cell_type": "markdown",
   "id": "addf959d",
   "metadata": {},
   "source": [
    "Select the only important keys: Month, Area, Cost, and Status of stolen features"
   ]
  },
  {
   "cell_type": "code",
   "execution_count": 99,
   "id": "2d25dadb",
   "metadata": {},
   "outputs": [],
   "source": [
    "df = df[['Occurrence_Month', 'Division', 'Hood_ID', 'Cost_of_Bike', 'Status']]"
   ]
  },
  {
   "cell_type": "code",
   "execution_count": 100,
   "id": "970c6edf",
   "metadata": {},
   "outputs": [
    {
     "data": {
      "text/html": [
       "<div>\n",
       "<style scoped>\n",
       "    .dataframe tbody tr th:only-of-type {\n",
       "        vertical-align: middle;\n",
       "    }\n",
       "\n",
       "    .dataframe tbody tr th {\n",
       "        vertical-align: top;\n",
       "    }\n",
       "\n",
       "    .dataframe thead th {\n",
       "        text-align: right;\n",
       "    }\n",
       "</style>\n",
       "<table border=\"1\" class=\"dataframe\">\n",
       "  <thead>\n",
       "    <tr style=\"text-align: right;\">\n",
       "      <th></th>\n",
       "      <th>Month</th>\n",
       "      <th>Div</th>\n",
       "      <th>Hood</th>\n",
       "      <th>Cost</th>\n",
       "      <th>Status</th>\n",
       "    </tr>\n",
       "  </thead>\n",
       "  <tbody>\n",
       "    <tr>\n",
       "      <th>0</th>\n",
       "      <td>October</td>\n",
       "      <td>D22</td>\n",
       "      <td>15</td>\n",
       "      <td>700.0</td>\n",
       "      <td>STOLEN</td>\n",
       "    </tr>\n",
       "    <tr>\n",
       "      <th>1</th>\n",
       "      <td>November</td>\n",
       "      <td>D22</td>\n",
       "      <td>15</td>\n",
       "      <td>1100.0</td>\n",
       "      <td>RECOVERED</td>\n",
       "    </tr>\n",
       "    <tr>\n",
       "      <th>2</th>\n",
       "      <td>September</td>\n",
       "      <td>D22</td>\n",
       "      <td>15</td>\n",
       "      <td>904.0</td>\n",
       "      <td>STOLEN</td>\n",
       "    </tr>\n",
       "    <tr>\n",
       "      <th>3</th>\n",
       "      <td>May</td>\n",
       "      <td>D22</td>\n",
       "      <td>15</td>\n",
       "      <td>400.0</td>\n",
       "      <td>STOLEN</td>\n",
       "    </tr>\n",
       "    <tr>\n",
       "      <th>4</th>\n",
       "      <td>May</td>\n",
       "      <td>D22</td>\n",
       "      <td>15</td>\n",
       "      <td>600.0</td>\n",
       "      <td>STOLEN</td>\n",
       "    </tr>\n",
       "  </tbody>\n",
       "</table>\n",
       "</div>"
      ],
      "text/plain": [
       "       Month  Div Hood    Cost     Status\n",
       "0    October  D22   15   700.0     STOLEN\n",
       "1   November  D22   15  1100.0  RECOVERED\n",
       "2  September  D22   15   904.0     STOLEN\n",
       "3        May  D22   15   400.0     STOLEN\n",
       "4        May  D22   15   600.0     STOLEN"
      ]
     },
     "execution_count": 100,
     "metadata": {},
     "output_type": "execute_result"
    }
   ],
   "source": [
    "# Rename some column just for easy co\n",
    "df=df.rename(columns={'Occurrence_Month':'Month', 'Division':'Div', \"Hood_ID\" : \"Hood\", \"Cost_of_Bike\" : \"Cost\"})\n",
    "df.head(5)"
   ]
  },
  {
   "cell_type": "markdown",
   "id": "aa984b64",
   "metadata": {},
   "source": [
    "Evaluate Month feature"
   ]
  },
  {
   "cell_type": "code",
   "execution_count": 101,
   "id": "e10c642f",
   "metadata": {},
   "outputs": [
    {
     "data": {
      "text/plain": [
       "July         4002\n",
       "August       3680\n",
       "June         3532\n",
       "September    3265\n",
       "May          2659\n",
       "October      2492\n",
       "April        1553\n",
       "November     1467\n",
       "March         876\n",
       "December      834\n",
       "January       640\n",
       "February      569\n",
       "Name: Month, dtype: int64"
      ]
     },
     "execution_count": 101,
     "metadata": {},
     "output_type": "execute_result"
    }
   ],
   "source": [
    "df.Month.value_counts()"
   ]
  },
  {
   "cell_type": "markdown",
   "id": "39d0db88",
   "metadata": {},
   "source": [
    "Evaluate Neigborhood feature"
   ]
  },
  {
   "cell_type": "code",
   "execution_count": 102,
   "id": "d0f58428",
   "metadata": {},
   "outputs": [
    {
     "data": {
      "text/plain": [
       "77     2576\n",
       "76     2112\n",
       "75     1676\n",
       "82      992\n",
       "95      947\n",
       "       ... \n",
       "116      12\n",
       "3        10\n",
       "112       9\n",
       "4         7\n",
       "29        6\n",
       "Name: Hood, Length: 141, dtype: int64"
      ]
     },
     "execution_count": 102,
     "metadata": {},
     "output_type": "execute_result"
    }
   ],
   "source": [
    "df.Hood.value_counts()"
   ]
  },
  {
   "cell_type": "markdown",
   "id": "3ad7f861",
   "metadata": {},
   "source": [
    "Evaluate Division feature"
   ]
  },
  {
   "cell_type": "code",
   "execution_count": 103,
   "id": "9a2cb2a3",
   "metadata": {},
   "outputs": [
    {
     "data": {
      "text/plain": [
       "D14    4580\n",
       "D52    4389\n",
       "D51    4100\n",
       "D53    2287\n",
       "D55    1959\n",
       "D11    1808\n",
       "D32    1235\n",
       "D22    1116\n",
       "D13     966\n",
       "D54     734\n",
       "D41     465\n",
       "D31     421\n",
       "D43     417\n",
       "D33     392\n",
       "D12     250\n",
       "D23     223\n",
       "D42     218\n",
       "NSA       9\n",
       "Name: Div, dtype: int64"
      ]
     },
     "execution_count": 103,
     "metadata": {},
     "output_type": "execute_result"
    }
   ],
   "source": [
    "df.Div.value_counts()"
   ]
  },
  {
   "cell_type": "markdown",
   "id": "783b86a6",
   "metadata": {},
   "source": [
    "We have NSA which is unknown location, so we assign '000' to this Value"
   ]
  },
  {
   "cell_type": "code",
   "execution_count": 104,
   "id": "d603b821",
   "metadata": {},
   "outputs": [
    {
     "data": {
      "text/plain": [
       "D14    4580\n",
       "D52    4389\n",
       "D51    4100\n",
       "D53    2287\n",
       "D55    1959\n",
       "D11    1808\n",
       "D32    1235\n",
       "D22    1116\n",
       "D13     966\n",
       "D54     734\n",
       "D41     465\n",
       "D31     421\n",
       "D43     417\n",
       "D33     392\n",
       "D12     250\n",
       "D23     223\n",
       "D42     218\n",
       "000       9\n",
       "Name: Div, dtype: int64"
      ]
     },
     "execution_count": 104,
     "metadata": {},
     "output_type": "execute_result"
    }
   ],
   "source": [
    "# replace NSA in Division\n",
    "df.replace(\"NSA\", \"D00\", inplace=True)\n",
    "df.Div.value_counts()"
   ]
  },
  {
   "cell_type": "markdown",
   "id": "838f49e4",
   "metadata": {},
   "source": [
    "Evaluate Status feature"
   ]
  },
  {
   "cell_type": "code",
   "execution_count": 105,
   "id": "c89ee591",
   "metadata": {},
   "outputs": [
    {
     "data": {
      "text/plain": [
       "STOLEN       24807\n",
       "UNKNOWN        454\n",
       "RECOVERED      308\n",
       "Name: Status, dtype: int64"
      ]
     },
     "execution_count": 105,
     "metadata": {},
     "output_type": "execute_result"
    }
   ],
   "source": [
    "df.Status.value_counts()"
   ]
  },
  {
   "cell_type": "markdown",
   "id": "2cb22569",
   "metadata": {},
   "source": [
    "We have 454 case UNKNOWN that means Lost bike (stolen or not), so, we assign them to STOLEN case"
   ]
  },
  {
   "cell_type": "code",
   "execution_count": 106,
   "id": "1cb034d6",
   "metadata": {},
   "outputs": [],
   "source": [
    "df.replace(\"UNKNOWN\", \"STOLEN\", inplace=True)"
   ]
  },
  {
   "cell_type": "code",
   "execution_count": 107,
   "id": "165cd77c",
   "metadata": {},
   "outputs": [
    {
     "data": {
      "text/plain": [
       "STOLEN       25261\n",
       "RECOVERED      308\n",
       "Name: Status, dtype: int64"
      ]
     },
     "execution_count": 107,
     "metadata": {},
     "output_type": "execute_result"
    }
   ],
   "source": [
    "# review the target again\n",
    "df.Status.value_counts()"
   ]
  },
  {
   "cell_type": "markdown",
   "id": "5e58d106",
   "metadata": {},
   "source": [
    "Set target to number value: STOLEN=0, RECOVERED=1"
   ]
  },
  {
   "cell_type": "code",
   "execution_count": 108,
   "id": "b26cecab",
   "metadata": {},
   "outputs": [],
   "source": [
    "df.replace({'STOLEN': 0, 'RECOVERED': 1}, inplace=True)"
   ]
  },
  {
   "cell_type": "code",
   "execution_count": 109,
   "id": "4cabbb02",
   "metadata": {},
   "outputs": [
    {
     "data": {
      "text/plain": [
       "0    25261\n",
       "1      308\n",
       "Name: Status, dtype: int64"
      ]
     },
     "execution_count": 109,
     "metadata": {},
     "output_type": "execute_result"
    }
   ],
   "source": [
    "df.Status.value_counts()"
   ]
  },
  {
   "cell_type": "code",
   "execution_count": 110,
   "id": "624ab218",
   "metadata": {},
   "outputs": [
    {
     "data": {
      "text/plain": [
       "Month      object\n",
       "Div        object\n",
       "Hood       object\n",
       "Cost      float64\n",
       "Status      int64\n",
       "dtype: object"
      ]
     },
     "execution_count": 110,
     "metadata": {},
     "output_type": "execute_result"
    }
   ],
   "source": [
    "df.dtypes"
   ]
  },
  {
   "cell_type": "code",
   "execution_count": 111,
   "id": "b92d17dd",
   "metadata": {},
   "outputs": [],
   "source": [
    "df['Hood'] = df['Hood'].astype(int)"
   ]
  },
  {
   "cell_type": "code",
   "execution_count": 112,
   "id": "59ceb9b8",
   "metadata": {},
   "outputs": [],
   "source": [
    "# convert Division number part\n",
    "df['Div'] = df['Div'].str.slice(1)\n",
    "df['Div'] = df['Div'].astype(int)"
   ]
  },
  {
   "cell_type": "code",
   "execution_count": 113,
   "id": "547d5485",
   "metadata": {},
   "outputs": [
    {
     "data": {
      "text/html": [
       "<div>\n",
       "<style scoped>\n",
       "    .dataframe tbody tr th:only-of-type {\n",
       "        vertical-align: middle;\n",
       "    }\n",
       "\n",
       "    .dataframe tbody tr th {\n",
       "        vertical-align: top;\n",
       "    }\n",
       "\n",
       "    .dataframe thead th {\n",
       "        text-align: right;\n",
       "    }\n",
       "</style>\n",
       "<table border=\"1\" class=\"dataframe\">\n",
       "  <thead>\n",
       "    <tr style=\"text-align: right;\">\n",
       "      <th></th>\n",
       "      <th>Month</th>\n",
       "      <th>Div</th>\n",
       "      <th>Hood</th>\n",
       "      <th>Cost</th>\n",
       "      <th>Status</th>\n",
       "    </tr>\n",
       "  </thead>\n",
       "  <tbody>\n",
       "    <tr>\n",
       "      <th>0</th>\n",
       "      <td>October</td>\n",
       "      <td>22</td>\n",
       "      <td>15</td>\n",
       "      <td>700.0</td>\n",
       "      <td>0</td>\n",
       "    </tr>\n",
       "    <tr>\n",
       "      <th>1</th>\n",
       "      <td>November</td>\n",
       "      <td>22</td>\n",
       "      <td>15</td>\n",
       "      <td>1100.0</td>\n",
       "      <td>1</td>\n",
       "    </tr>\n",
       "    <tr>\n",
       "      <th>2</th>\n",
       "      <td>September</td>\n",
       "      <td>22</td>\n",
       "      <td>15</td>\n",
       "      <td>904.0</td>\n",
       "      <td>0</td>\n",
       "    </tr>\n",
       "    <tr>\n",
       "      <th>3</th>\n",
       "      <td>May</td>\n",
       "      <td>22</td>\n",
       "      <td>15</td>\n",
       "      <td>400.0</td>\n",
       "      <td>0</td>\n",
       "    </tr>\n",
       "    <tr>\n",
       "      <th>4</th>\n",
       "      <td>May</td>\n",
       "      <td>22</td>\n",
       "      <td>15</td>\n",
       "      <td>600.0</td>\n",
       "      <td>0</td>\n",
       "    </tr>\n",
       "  </tbody>\n",
       "</table>\n",
       "</div>"
      ],
      "text/plain": [
       "       Month  Div  Hood    Cost  Status\n",
       "0    October   22    15   700.0       0\n",
       "1   November   22    15  1100.0       1\n",
       "2  September   22    15   904.0       0\n",
       "3        May   22    15   400.0       0\n",
       "4        May   22    15   600.0       0"
      ]
     },
     "execution_count": 113,
     "metadata": {},
     "output_type": "execute_result"
    }
   ],
   "source": [
    "df.head(5)"
   ]
  },
  {
   "cell_type": "code",
   "execution_count": 114,
   "id": "79a88837",
   "metadata": {},
   "outputs": [],
   "source": [
    "def monthN(s):\n",
    "    switcher = {\n",
    "        'January':      1,\n",
    "        'February':     2,\n",
    "        'March':        3,\n",
    "        'April':        4,\n",
    "        'May':          5,\n",
    "        'June':         6,\n",
    "        'July':         7,\n",
    "        'August':       8,\n",
    "        'September':    9,\n",
    "        'October':      10,\n",
    "        'November':     11,\n",
    "        'December':     12\n",
    "    }\n",
    "    return switcher.get(s, \"Invalid month\")\n"
   ]
  },
  {
   "cell_type": "code",
   "execution_count": 115,
   "id": "b9cd3196",
   "metadata": {},
   "outputs": [],
   "source": [
    "df['Month'] = df['Month'].apply(lambda x: monthN(x))"
   ]
  },
  {
   "cell_type": "code",
   "execution_count": 116,
   "id": "62f889ee",
   "metadata": {},
   "outputs": [
    {
     "data": {
      "text/html": [
       "<div>\n",
       "<style scoped>\n",
       "    .dataframe tbody tr th:only-of-type {\n",
       "        vertical-align: middle;\n",
       "    }\n",
       "\n",
       "    .dataframe tbody tr th {\n",
       "        vertical-align: top;\n",
       "    }\n",
       "\n",
       "    .dataframe thead th {\n",
       "        text-align: right;\n",
       "    }\n",
       "</style>\n",
       "<table border=\"1\" class=\"dataframe\">\n",
       "  <thead>\n",
       "    <tr style=\"text-align: right;\">\n",
       "      <th></th>\n",
       "      <th>Month</th>\n",
       "      <th>Div</th>\n",
       "      <th>Hood</th>\n",
       "      <th>Cost</th>\n",
       "      <th>Status</th>\n",
       "    </tr>\n",
       "  </thead>\n",
       "  <tbody>\n",
       "    <tr>\n",
       "      <th>0</th>\n",
       "      <td>10</td>\n",
       "      <td>22</td>\n",
       "      <td>15</td>\n",
       "      <td>700.0</td>\n",
       "      <td>0</td>\n",
       "    </tr>\n",
       "    <tr>\n",
       "      <th>1</th>\n",
       "      <td>11</td>\n",
       "      <td>22</td>\n",
       "      <td>15</td>\n",
       "      <td>1100.0</td>\n",
       "      <td>1</td>\n",
       "    </tr>\n",
       "    <tr>\n",
       "      <th>2</th>\n",
       "      <td>9</td>\n",
       "      <td>22</td>\n",
       "      <td>15</td>\n",
       "      <td>904.0</td>\n",
       "      <td>0</td>\n",
       "    </tr>\n",
       "    <tr>\n",
       "      <th>3</th>\n",
       "      <td>5</td>\n",
       "      <td>22</td>\n",
       "      <td>15</td>\n",
       "      <td>400.0</td>\n",
       "      <td>0</td>\n",
       "    </tr>\n",
       "    <tr>\n",
       "      <th>4</th>\n",
       "      <td>5</td>\n",
       "      <td>22</td>\n",
       "      <td>15</td>\n",
       "      <td>600.0</td>\n",
       "      <td>0</td>\n",
       "    </tr>\n",
       "  </tbody>\n",
       "</table>\n",
       "</div>"
      ],
      "text/plain": [
       "   Month  Div  Hood    Cost  Status\n",
       "0     10   22    15   700.0       0\n",
       "1     11   22    15  1100.0       1\n",
       "2      9   22    15   904.0       0\n",
       "3      5   22    15   400.0       0\n",
       "4      5   22    15   600.0       0"
      ]
     },
     "execution_count": 116,
     "metadata": {},
     "output_type": "execute_result"
    }
   ],
   "source": [
    "df.head(5)"
   ]
  },
  {
   "cell_type": "code",
   "execution_count": 117,
   "id": "25046ba2",
   "metadata": {},
   "outputs": [
    {
     "data": {
      "text/plain": [
       "Month        0\n",
       "Div          0\n",
       "Hood         0\n",
       "Cost      1744\n",
       "Status       0\n",
       "dtype: int64"
      ]
     },
     "execution_count": 117,
     "metadata": {},
     "output_type": "execute_result"
    }
   ],
   "source": [
    "df.isnull().sum()"
   ]
  },
  {
   "cell_type": "code",
   "execution_count": 118,
   "id": "010600f5",
   "metadata": {},
   "outputs": [
    {
     "data": {
      "text/plain": [
       "count     23825.000000\n",
       "mean        949.542371\n",
       "std        1675.880345\n",
       "min           0.000000\n",
       "25%         350.000000\n",
       "50%         600.000000\n",
       "75%        1000.000000\n",
       "max      120000.000000\n",
       "Name: Cost, dtype: float64"
      ]
     },
     "execution_count": 118,
     "metadata": {},
     "output_type": "execute_result"
    }
   ],
   "source": [
    "df['Cost'].describe()"
   ]
  },
  {
   "cell_type": "code",
   "execution_count": 119,
   "id": "6b7c03cf",
   "metadata": {},
   "outputs": [],
   "source": [
    "df['Cost'].replace({0: np.nan}, inplace=True)"
   ]
  },
  {
   "cell_type": "code",
   "execution_count": 120,
   "id": "a986d16f",
   "metadata": {},
   "outputs": [
    {
     "data": {
      "text/plain": [
       "count     22657.000000\n",
       "mean        998.492607\n",
       "std        1704.256048\n",
       "min           1.000000\n",
       "25%         400.000000\n",
       "50%         650.000000\n",
       "75%        1051.000000\n",
       "max      120000.000000\n",
       "Name: Cost, dtype: float64"
      ]
     },
     "execution_count": 120,
     "metadata": {},
     "output_type": "execute_result"
    }
   ],
   "source": [
    "df['Cost'].describe()"
   ]
  },
  {
   "cell_type": "code",
   "execution_count": 126,
   "id": "dfa295a6",
   "metadata": {},
   "outputs": [],
   "source": [
    "df.Cost.fillna(df[\"Cost\"].median(), inplace = True)"
   ]
  },
  {
   "cell_type": "code",
   "execution_count": 127,
   "id": "c1927413",
   "metadata": {},
   "outputs": [
    {
     "data": {
      "text/html": [
       "<div>\n",
       "<style scoped>\n",
       "    .dataframe tbody tr th:only-of-type {\n",
       "        vertical-align: middle;\n",
       "    }\n",
       "\n",
       "    .dataframe tbody tr th {\n",
       "        vertical-align: top;\n",
       "    }\n",
       "\n",
       "    .dataframe thead th {\n",
       "        text-align: right;\n",
       "    }\n",
       "</style>\n",
       "<table border=\"1\" class=\"dataframe\">\n",
       "  <thead>\n",
       "    <tr style=\"text-align: right;\">\n",
       "      <th></th>\n",
       "      <th>Month</th>\n",
       "      <th>Div</th>\n",
       "      <th>Hood</th>\n",
       "      <th>Cost</th>\n",
       "      <th>Status</th>\n",
       "    </tr>\n",
       "  </thead>\n",
       "  <tbody>\n",
       "    <tr>\n",
       "      <th>0</th>\n",
       "      <td>10</td>\n",
       "      <td>22</td>\n",
       "      <td>15</td>\n",
       "      <td>700.0</td>\n",
       "      <td>0</td>\n",
       "    </tr>\n",
       "    <tr>\n",
       "      <th>1</th>\n",
       "      <td>11</td>\n",
       "      <td>22</td>\n",
       "      <td>15</td>\n",
       "      <td>1100.0</td>\n",
       "      <td>1</td>\n",
       "    </tr>\n",
       "    <tr>\n",
       "      <th>2</th>\n",
       "      <td>9</td>\n",
       "      <td>22</td>\n",
       "      <td>15</td>\n",
       "      <td>904.0</td>\n",
       "      <td>0</td>\n",
       "    </tr>\n",
       "    <tr>\n",
       "      <th>3</th>\n",
       "      <td>5</td>\n",
       "      <td>22</td>\n",
       "      <td>15</td>\n",
       "      <td>400.0</td>\n",
       "      <td>0</td>\n",
       "    </tr>\n",
       "    <tr>\n",
       "      <th>4</th>\n",
       "      <td>5</td>\n",
       "      <td>22</td>\n",
       "      <td>15</td>\n",
       "      <td>600.0</td>\n",
       "      <td>0</td>\n",
       "    </tr>\n",
       "    <tr>\n",
       "      <th>...</th>\n",
       "      <td>...</td>\n",
       "      <td>...</td>\n",
       "      <td>...</td>\n",
       "      <td>...</td>\n",
       "      <td>...</td>\n",
       "    </tr>\n",
       "    <tr>\n",
       "      <th>25564</th>\n",
       "      <td>4</td>\n",
       "      <td>42</td>\n",
       "      <td>132</td>\n",
       "      <td>600.0</td>\n",
       "      <td>0</td>\n",
       "    </tr>\n",
       "    <tr>\n",
       "      <th>25565</th>\n",
       "      <td>5</td>\n",
       "      <td>42</td>\n",
       "      <td>132</td>\n",
       "      <td>900.0</td>\n",
       "      <td>0</td>\n",
       "    </tr>\n",
       "    <tr>\n",
       "      <th>25566</th>\n",
       "      <td>6</td>\n",
       "      <td>42</td>\n",
       "      <td>132</td>\n",
       "      <td>700.0</td>\n",
       "      <td>0</td>\n",
       "    </tr>\n",
       "    <tr>\n",
       "      <th>25567</th>\n",
       "      <td>7</td>\n",
       "      <td>42</td>\n",
       "      <td>132</td>\n",
       "      <td>3000.0</td>\n",
       "      <td>0</td>\n",
       "    </tr>\n",
       "    <tr>\n",
       "      <th>25568</th>\n",
       "      <td>7</td>\n",
       "      <td>42</td>\n",
       "      <td>132</td>\n",
       "      <td>200.0</td>\n",
       "      <td>0</td>\n",
       "    </tr>\n",
       "  </tbody>\n",
       "</table>\n",
       "<p>25569 rows × 5 columns</p>\n",
       "</div>"
      ],
      "text/plain": [
       "       Month  Div  Hood    Cost  Status\n",
       "0         10   22    15   700.0       0\n",
       "1         11   22    15  1100.0       1\n",
       "2          9   22    15   904.0       0\n",
       "3          5   22    15   400.0       0\n",
       "4          5   22    15   600.0       0\n",
       "...      ...  ...   ...     ...     ...\n",
       "25564      4   42   132   600.0       0\n",
       "25565      5   42   132   900.0       0\n",
       "25566      6   42   132   700.0       0\n",
       "25567      7   42   132  3000.0       0\n",
       "25568      7   42   132   200.0       0\n",
       "\n",
       "[25569 rows x 5 columns]"
      ]
     },
     "execution_count": 127,
     "metadata": {},
     "output_type": "execute_result"
    }
   ],
   "source": [
    "df"
   ]
  },
  {
   "cell_type": "code",
   "execution_count": 128,
   "id": "cb49c993",
   "metadata": {},
   "outputs": [],
   "source": [
    "X = df[['Month', 'Div', 'Hood', 'Cost']]\n",
    "y = df[['Status']]"
   ]
  },
  {
   "cell_type": "code",
   "execution_count": 130,
   "id": "212b78c5",
   "metadata": {},
   "outputs": [
    {
     "data": {
      "text/plain": [
       "(   Month  Div  Hood    Cost\n",
       " 0     10   22    15   700.0\n",
       " 1     11   22    15  1100.0\n",
       " 2      9   22    15   904.0\n",
       " 3      5   22    15   400.0\n",
       " 4      5   22    15   600.0,\n",
       "    Status\n",
       " 0       0\n",
       " 1       1\n",
       " 2       0\n",
       " 3       0\n",
       " 4       0)"
      ]
     },
     "execution_count": 130,
     "metadata": {},
     "output_type": "execute_result"
    }
   ],
   "source": [
    "X.head(5), y.head(5)"
   ]
  },
  {
   "cell_type": "code",
   "execution_count": null,
   "id": "504d11c5",
   "metadata": {},
   "outputs": [],
   "source": []
  }
 ],
 "metadata": {
  "kernelspec": {
   "display_name": "Python 3",
   "language": "python",
   "name": "python3"
  },
  "language_info": {
   "codemirror_mode": {
    "name": "ipython",
    "version": 3
   },
   "file_extension": ".py",
   "mimetype": "text/x-python",
   "name": "python",
   "nbconvert_exporter": "python",
   "pygments_lexer": "ipython3",
   "version": "3.8.8"
  }
 },
 "nbformat": 4,
 "nbformat_minor": 5
}
